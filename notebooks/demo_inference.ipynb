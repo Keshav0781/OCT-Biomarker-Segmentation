{
 "cells": [
  {
   "cell_type": "markdown",
   "metadata": {},
   "source": [
    "# Demo Inference Notebook\n",
    "This notebook demonstrates loading a trained U-Net model and running inference on a sample OCT image."
   ]
  },
  {
   "cell_type": "code",
   "execution_count": null,
   "metadata": {},
   "outputs": [],
   "source": [
    "import torch\n",
    "from unet import UNet  # adjust import based on your code structure\n",
    "from PIL import Image\n",
    "import matplotlib.pyplot as plt\n",
    "\n",
    "# Load sample image\n",
    "img = Image.open('../data/sample_images/sample_oct.png').convert('L')\n",
    "\n",
    "# Load trained model (replace with your checkpoint path)\n",
    "model = UNet(n_channels=1, n_classes=2)\n",
    "model.load_state_dict(torch.load('../models/unet_checkpoint.pth', map_location='cpu'))\n",
    "model.eval()\n",
    "\n",
    "# Run inference\n",
    "import torchvision.transforms as T\n",
    "x = T.ToTensor()(img).unsqueeze(0)\n",
    "with torch.no_grad():\n",
    "    pred = model(x)\n",
    "mask = torch.argmax(pred, dim=1).squeeze().numpy()\n",
    "\n",
    "plt.subplot(1,2,1)\n",
    "plt.imshow(img, cmap='gray')\n",
    "plt.title('Input OCT')\n",
    "plt.subplot(1,2,2)\n",
    "plt.imshow(mask, cmap='gray')\n",
    "plt.title('Predicted Mask')\n",
    "plt.show()"
   ]
  }
 ],
 "metadata": {
  "kernelspec": {
   "display_name": "Python 3",
   "language": "python",
   "name": "python3"
  },
  "language_info": {
   "name": "python",
   "version": "3.8"
  }
 },
 "nbformat": 4,
 "nbformat_minor": 2
}
